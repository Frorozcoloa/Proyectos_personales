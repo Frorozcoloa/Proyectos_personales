{
 "cells": [
  {
   "cell_type": "code",
   "execution_count": 101,
   "metadata": {},
   "outputs": [],
   "source": [
    "import numpy as no\n",
    "import datetime\n",
    "from datetime import date\n",
    "from scipy.stats import bernoulli\n",
    "import pandas as pd"
   ]
  },
  {
   "cell_type": "code",
   "execution_count": 87,
   "metadata": {},
   "outputs": [
    {
     "data": {
      "text/plain": [
       "504"
      ]
     },
     "execution_count": 87,
     "metadata": {},
     "output_type": "execute_result"
    }
   ],
   "source": [
    "universo = ['cara', 'sello']\n",
    "p_cara = 1/2\n",
    "\n",
    "\n",
    "universo[bernoulli.rvs(p=p_cara)]\n",
    "bernoulli.rvs(p=p_cara, size=100)\n",
    "sum(bernoulli.rvs(p=p_cara, size=1000))"
   ]
  },
  {
   "cell_type": "code",
   "execution_count": 100,
   "metadata": {},
   "outputs": [
    {
     "data": {
      "text/plain": [
       "array([500, 521, 502, 490, 485, 490, 503, 520, 490, 514, 468, 503, 491,\n",
       "       474, 513, 513, 513, 501, 486, 479, 500, 513, 492, 493, 497, 505,\n",
       "       491, 512, 503, 476, 504, 504, 493, 487, 481, 493, 491, 490, 477,\n",
       "       493, 493, 485, 484, 520, 527, 513, 508, 506, 496, 501, 505, 508,\n",
       "       494, 525, 530, 497, 507, 497, 527, 525, 507, 518, 519, 531, 490,\n",
       "       536, 508, 521, 524, 503, 493, 514, 502, 510, 485, 508, 495, 480,\n",
       "       477, 557, 483, 519, 517, 510, 496, 515, 498, 512, 507, 479, 492,\n",
       "       511, 503, 499, 509, 507, 487, 491, 540, 496])"
      ]
     },
     "execution_count": 100,
     "metadata": {},
     "output_type": "execute_result"
    }
   ],
   "source": [
    "from scipy.stats import binom\n",
    "binom.rvs(p=p_cara, n=1000, size = 100)\n",
    "pd.Series()"
   ]
  },
  {
   "cell_type": "code",
   "execution_count": 106,
   "metadata": {},
   "outputs": [
    {
     "data": {
      "text/plain": [
       "4    0.33\n",
       "5    0.21\n",
       "6    0.16\n",
       "7    0.12\n",
       "3    0.11\n",
       "9    0.03\n",
       "8    0.02\n",
       "2    0.02\n",
       "dtype: float64"
      ]
     },
     "execution_count": 106,
     "metadata": {},
     "output_type": "execute_result"
    }
   ],
   "source": [
    "pd.Series(binom.rvs(p=p_cara, n=10, size = 100)).value_counts()/100"
   ]
  }
 ],
 "metadata": {
  "kernelspec": {
   "display_name": "Python 3",
   "language": "python",
   "name": "python3"
  },
  "language_info": {
   "codemirror_mode": {
    "name": "ipython",
    "version": 3
   },
   "file_extension": ".py",
   "mimetype": "text/x-python",
   "name": "python",
   "nbconvert_exporter": "python",
   "pygments_lexer": "ipython3",
   "version": "3.7.6"
  }
 },
 "nbformat": 4,
 "nbformat_minor": 4
}
