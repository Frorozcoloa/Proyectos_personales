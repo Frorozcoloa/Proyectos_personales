{
 "cells": [
  {
   "cell_type": "code",
   "execution_count": 1,
   "metadata": {},
   "outputs": [],
   "source": [
    "import sklearn\n",
    "import numpy as np\n",
    "import pandas as pd\n",
    "import matplotlib.pyplot as plt\n",
    "from sklearn.datasets import load_iris\n",
    "from scipy import stats\n",
    "import seaborn as sns\n",
    "%matplotlib inline"
   ]
  },
  {
   "cell_type": "code",
   "execution_count": 6,
   "metadata": {},
   "outputs": [
    {
     "data": {
      "text/plain": [
       "0.00013383022576488537"
      ]
     },
     "execution_count": 6,
     "metadata": {},
     "output_type": "execute_result"
    }
   ],
   "source": [
    "from scipy.stats import norm\n",
    "\n",
    "x1 = 3\n",
    "\n",
    "mu1 = 4\n",
    "mu2 = 7\n",
    "sigma = 1\n",
    "\n",
    "p_muestra = norm.pdf(x1,mu2, sigma)\n",
    "p_muestra"
   ]
  },
  {
   "cell_type": "code",
   "execution_count": 8,
   "metadata": {},
   "outputs": [
    {
     "data": {
      "text/plain": [
       "1.4701857752651781e-09"
      ]
     },
     "execution_count": 8,
     "metadata": {},
     "output_type": "execute_result"
    }
   ],
   "source": [
    "from scipy.stats import norm\n",
    "\n",
    "x1 = 3\n",
    "x2 = 10\n",
    "\n",
    "mu1 = 4\n",
    "mu2 = 7\n",
    "sigma = 1\n",
    "\n",
    "p_muestra = norm.pdf(x1,mu1, sigma) * norm.pdf(x2,mu1, sigma) \n",
    "p_muestra"
   ]
  },
  {
   "cell_type": "code",
   "execution_count": 9,
   "metadata": {},
   "outputs": [
    {
     "data": {
      "text/plain": [
       "array([4.1063527 , 5.4784707 , 5.46239899, 4.85998681, 6.40601503,\n",
       "       6.16412174, 5.2990409 , 4.20587708, 5.29369235, 4.51947855])"
      ]
     },
     "execution_count": 9,
     "metadata": {},
     "output_type": "execute_result"
    }
   ],
   "source": [
    "muestra_10 = norm.rvs(5, sigma, size = 10)\n",
    "muestra_10"
   ]
  },
  {
   "cell_type": "code",
   "execution_count": 15,
   "metadata": {},
   "outputs": [],
   "source": [
    "data1 = norm.rvs(mu1, sigma, size = 100000)\n",
    "data2 = norm.rvs(mu2, sigma, size = 100000)"
   ]
  },
  {
   "cell_type": "code",
   "execution_count": 27,
   "metadata": {},
   "outputs": [
    {
     "data": {
      "text/plain": [
       "<matplotlib.collections.PathCollection at 0x298e4804cc8>"
      ]
     },
     "execution_count": 27,
     "metadata": {},
     "output_type": "execute_result"
    },
    {
     "data": {
      "image/png": "[encoded data removed]",
      "text/plain": [
       "<Figure size 432x288 with 1 Axes>"
      ]
     },
     "metadata": {
      "needs_background": "light"
     },
     "output_type": "display_data"
    }
   ],
   "source": [
    "y = [ 3000 for i in range(10)]\n",
    "\n",
    "ax = sns.distplot(data1, bins = 50, color = 'blue', kde = False)\n",
    "ax.set(xlabel = 'Distribución normal mu1', ylabel = 'Frecuencia')\n",
    "\n",
    "ax = sns.distplot(data2, bins = 50, color = 'red', kde= False)\n",
    "ax.set(xlabel = 'Distribución normal mu2', ylabel = 'Frecuencia')\n",
    "\n",
    "ax.scatter(muestra_10, y, c='k')"
   ]
  },
  {
   "cell_type": "code",
   "execution_count": 34,
   "metadata": {},
   "outputs": [
    {
     "data": {
      "image/png": "[encoded data removed]",
      "text/plain": [
       "<Figure size 432x288 with 1 Axes>"
      ]
     },
     "metadata": {
      "needs_background": "light"
     },
     "output_type": "display_data"
    }
   ],
   "source": [
    "from scipy.stats import t\n",
    "\n",
    "data1 = t.rvs(100, size = 1000000)\n",
    "data2 = t.rvs(5, size = 1000000)\n",
    "\n",
    "ax = sns.distplot(data1, bins=500, kde=False, color = 'blue')\n",
    "ax = sns.distplot(data2, bins=500, kde=False, color = 'red')"
   ]
  },
  {
   "cell_type": "code",
   "execution_count": 38,
   "metadata": {},
   "outputs": [
    {
     "data": {
      "image/png": "[encoded data removed]",
      "text/plain": [
       "<Figure size 432x288 with 1 Axes>"
      ]
     },
     "metadata": {
      "needs_background": "light"
     },
     "output_type": "display_data"
    }
   ],
   "source": [
    "from scipy.stats import chi2\n",
    "\n",
    "data1 = chi2.rvs(5, size = 1000000)\n",
    "data2 = chi2.rvs(15, size = 1000000)\n",
    "\n",
    "ax = sns.distplot(data1, bins=500, kde=False, color = 'blue')\n",
    "ax = sns.distplot(data2, bins=500, kde=False, color = 'red')"
   ]
  },
  {
   "cell_type": "code",
   "execution_count": 40,
   "metadata": {},
   "outputs": [
    {
     "data": {
      "image/png": "[encoded data removed]",
      "text/plain": [
       "<Figure size 432x288 with 1 Axes>"
      ]
     },
     "metadata": {
      "needs_background": "light"
     },
     "output_type": "display_data"
    }
   ],
   "source": [
    "from scipy.stats import f\n",
    "\n",
    "data1 = f.rvs(5, 25, size = 1000000)\n",
    "data2 = f.rvs(15, 25, size = 1000000)\n",
    "\n",
    "ax = sns.distplot(data1, bins=500, kde=False, color = 'blue')\n",
    "ax = sns.distplot(data2, bins=500, kde=False, color = 'red')"
   ]
  },
  {
   "cell_type": "code",
   "execution_count": 44,
   "metadata": {},
   "outputs": [
    {
     "data": {
      "text/plain": [
       "0.13216418898636514"
      ]
     },
     "execution_count": 44,
     "metadata": {},
     "output_type": "execute_result"
    }
   ],
   "source": [
    "f.pdf(2, 15, 25 )"
   ]
  },
  {
   "cell_type": "code",
   "execution_count": 45,
   "metadata": {},
   "outputs": [
    {
     "data": {
      "text/plain": [
       "0.9988900520089906"
      ]
     },
     "execution_count": 45,
     "metadata": {},
     "output_type": "execute_result"
    }
   ],
   "source": [
    "f.cdf(4, 15, 25)"
   ]
  },
  {
   "cell_type": "code",
   "execution_count": 48,
   "metadata": {},
   "outputs": [
    {
     "data": {
      "text/plain": [
       "4.000000000000022"
      ]
     },
     "execution_count": 48,
     "metadata": {},
     "output_type": "execute_result"
    }
   ],
   "source": [
    "f.ppf(0.9988900520089906, 15, 25)"
   ]
  },
  {
   "cell_type": "markdown",
   "metadata": {},
   "source": [
    "# Teorema del limite central"
   ]
  },
  {
   "cell_type": "code",
   "execution_count": 50,
   "metadata": {},
   "outputs": [],
   "source": [
    "from scipy.stats import expon\n",
    "from scipy.stats import uniform"
   ]
  },
  {
   "cell_type": "code",
   "execution_count": 51,
   "metadata": {},
   "outputs": [],
   "source": [
    "poblacion = pd.DataFrame()\n",
    "poblacion['numbers'] = expon.rvs(40, size = 10000)"
   ]
  },
  {
   "cell_type": "code",
   "execution_count": 53,
   "metadata": {},
   "outputs": [
    {
     "data": {
      "text/plain": [
       "<matplotlib.axes._subplots.AxesSubplot at 0x298e2bf06c8>"
      ]
     },
     "execution_count": 53,
     "metadata": {},
     "output_type": "execute_result"
    },
    {
     "data": {
      "image/png": "[encoded data removed]",
      "text/plain": [
       "<Figure size 432x288 with 1 Axes>"
      ]
     },
     "metadata": {
      "needs_background": "light"
     },
     "output_type": "display_data"
    }
   ],
   "source": [
    "poblacion['numbers'].hist(bins = 100)"
   ]
  },
  {
   "cell_type": "code",
   "execution_count": 61,
   "metadata": {},
   "outputs": [],
   "source": [
    "muestra_promedio = [poblacion.sample(n=100).mean().values[0] for _ in range(0, 50000+1)]"
   ]
  },
  {
   "cell_type": "code",
   "execution_count": 60,
   "metadata": {},
   "outputs": [
    {
     "data": {
      "image/png": "[encoded data removed]",
      "text/plain": [
       "<Figure size 432x288 with 1 Axes>"
      ]
     },
     "metadata": {
      "needs_background": "light"
     },
     "output_type": "display_data"
    }
   ],
   "source": [
    "fig, ax = plt.subplots()\n",
    "ax.hist(muestra_promedio, bins = 50, alpha = 0.5 )\n",
    "ax.set_xlabel('Valor promedio')\n",
    "ax.set_ylabel('Frecuencia')\n",
    "ax.grid()"
   ]
  }
 ],
 "metadata": {
  "kernelspec": {
   "display_name": "Python 3",
   "language": "python",
   "name": "python3"
  },
  "language_info": {
   "codemirror_mode": {
    "name": "ipython",
    "version": 3
   },
   "file_extension": ".py",
   "mimetype": "text/x-python",
   "name": "python",
   "nbconvert_exporter": "python",
   "pygments_lexer": "ipython3",
   "version": "3.7.6"
  }
 },
 "nbformat": 4,
 "nbformat_minor": 4
}
