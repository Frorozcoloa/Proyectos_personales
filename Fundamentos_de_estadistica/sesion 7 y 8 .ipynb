{
 "cells": [
  {
   "cell_type": "code",
   "execution_count": 1,
   "metadata": {},
   "outputs": [],
   "source": [
    "import scipy.stats\n",
    "import numpy as np\n",
    "import pandas as pd\n",
    "\n",
    "import matplotlib.pyplot as plt\n",
    "import seaborn as sns\n",
    "%matplotlib inline"
   ]
  },
  {
   "cell_type": "code",
   "execution_count": 2,
   "metadata": {},
   "outputs": [
    {
     "data": {
      "text/plain": [
       "Index(['bola', 'color', 'numero'], dtype='object')"
      ]
     },
     "execution_count": 2,
     "metadata": {},
     "output_type": "execute_result"
    }
   ],
   "source": [
    "df = pd.read_csv('juego-azar.csv', sep=';')\n",
    "df.columns"
   ]
  },
  {
   "cell_type": "code",
   "execution_count": 3,
   "metadata": {},
   "outputs": [
    {
     "data": {
      "text/html": [
       "<div>\n",
       "<style scoped>\n",
       "    .dataframe tbody tr th:only-of-type {\n",
       "        vertical-align: middle;\n",
       "    }\n",
       "\n",
       "    .dataframe tbody tr th {\n",
       "        vertical-align: top;\n",
       "    }\n",
       "\n",
       "    .dataframe thead th {\n",
       "        text-align: right;\n",
       "    }\n",
       "</style>\n",
       "<table border=\"1\" class=\"dataframe\">\n",
       "  <thead>\n",
       "    <tr style=\"text-align: right;\">\n",
       "      <th></th>\n",
       "      <th>bola</th>\n",
       "      <th>color</th>\n",
       "      <th>numero</th>\n",
       "    </tr>\n",
       "  </thead>\n",
       "  <tbody>\n",
       "    <tr>\n",
       "      <th>0</th>\n",
       "      <td>1</td>\n",
       "      <td>blanco</td>\n",
       "      <td>1</td>\n",
       "    </tr>\n",
       "    <tr>\n",
       "      <th>1</th>\n",
       "      <td>2</td>\n",
       "      <td>negro</td>\n",
       "      <td>1</td>\n",
       "    </tr>\n",
       "    <tr>\n",
       "      <th>2</th>\n",
       "      <td>3</td>\n",
       "      <td>negro</td>\n",
       "      <td>1</td>\n",
       "    </tr>\n",
       "    <tr>\n",
       "      <th>3</th>\n",
       "      <td>4</td>\n",
       "      <td>negro</td>\n",
       "      <td>1</td>\n",
       "    </tr>\n",
       "    <tr>\n",
       "      <th>4</th>\n",
       "      <td>5</td>\n",
       "      <td>blanco</td>\n",
       "      <td>2</td>\n",
       "    </tr>\n",
       "  </tbody>\n",
       "</table>\n",
       "</div>"
      ],
      "text/plain": [
       "   bola   color  numero\n",
       "0     1  blanco       1\n",
       "1     2   negro       1\n",
       "2     3   negro       1\n",
       "3     4   negro       1\n",
       "4     5  blanco       2"
      ]
     },
     "execution_count": 3,
     "metadata": {},
     "output_type": "execute_result"
    }
   ],
   "source": [
    "df.head()"
   ]
  },
  {
   "cell_type": "code",
   "execution_count": 7,
   "metadata": {},
   "outputs": [
    {
     "data": {
      "text/plain": [
       "1    0.4\n",
       "3    0.3\n",
       "2    0.3\n",
       "Name: numero, dtype: float64"
      ]
     },
     "execution_count": 7,
     "metadata": {},
     "output_type": "execute_result"
    }
   ],
   "source": [
    "df.numero.value_counts()/len(df)"
   ]
  },
  {
   "cell_type": "code",
   "execution_count": 10,
   "metadata": {},
   "outputs": [
    {
     "data": {
      "text/plain": [
       "negro     0.6\n",
       "blanco    0.4\n",
       "Name: color, dtype: float64"
      ]
     },
     "execution_count": 10,
     "metadata": {},
     "output_type": "execute_result"
    }
   ],
   "source": [
    "df.color.value_counts(len(df))"
   ]
  },
  {
   "cell_type": "code",
   "execution_count": 18,
   "metadata": {},
   "outputs": [
    {
     "data": {
      "text/plain": [
       "numero  color \n",
       "1       blanco    1\n",
       "        negro     3\n",
       "2       blanco    1\n",
       "        negro     2\n",
       "3       blanco    2\n",
       "        negro     1\n",
       "dtype: int64"
      ]
     },
     "execution_count": 18,
     "metadata": {},
     "output_type": "execute_result"
    }
   ],
   "source": [
    "df.groupby(['numero', 'color']).size()"
   ]
  },
  {
   "cell_type": "code",
   "execution_count": 14,
   "metadata": {},
   "outputs": [
    {
     "data": {
      "text/plain": [
       "0.3333333333333333"
      ]
     },
     "execution_count": 14,
     "metadata": {},
     "output_type": "execute_result"
    }
   ],
   "source": [
    "# P(A|B) = P(B|2) = 1/3+\n",
    "1/3"
   ]
  },
  {
   "cell_type": "markdown",
   "metadata": {},
   "source": [
    "# Sección 8\n"
   ]
  },
  {
   "cell_type": "code",
   "execution_count": 54,
   "metadata": {},
   "outputs": [
    {
     "data": {
      "text/plain": [
       "0.9999999999999762"
      ]
     },
     "execution_count": 54,
     "metadata": {},
     "output_type": "execute_result"
    },
    {
     "data": {
      "image/png": "[encoded data removed]",
      "text/plain": [
       "<Figure size 432x288 with 1 Axes>"
      ]
     },
     "metadata": {
      "needs_background": "light"
     },
     "output_type": "display_data"
    }
   ],
   "source": [
    "from scipy.stats import binom\n",
    "\n",
    "p = 0.3\n",
    "n = 100\n",
    "x = list(range(0,n,1))\n",
    "y = []\n",
    "\n",
    "for i in x:\n",
    "    y.append(binom.pmf(i, p=p, n=n))\n",
    "\n",
    "fig, ax = plt.subplots()\n",
    "ax.bar(x,y)\n",
    "ax.set_ylabel('Probabilidad discreta')\n",
    "\n",
    "np.sum(y)"
   ]
  },
  {
   "cell_type": "code",
   "execution_count": 59,
   "metadata": {},
   "outputs": [
    {
     "data": {
      "text/plain": [
       "<matplotlib.legend.Legend at 0x21b39115d48>"
      ]
     },
     "execution_count": 59,
     "metadata": {},
     "output_type": "execute_result"
    },
    {
     "data": {
      "image/png": "[encoded data removed]",
      "text/plain": [
       "<Figure size 432x288 with 1 Axes>"
      ]
     },
     "metadata": {
      "needs_background": "light"
     },
     "output_type": "display_data"
    }
   ],
   "source": [
    "# calculo de la distribucionse\n",
    "p = 0.3\n",
    "n = 10\n",
    "x = list(range(0,n,1))\n",
    "y = []\n",
    "\n",
    "for i in x:\n",
    "    y.append(binom.pmf(i, p=p, n=n))\n",
    "\n",
    "# Sacar valorese centrales\n",
    "media = np.average(x, weights = y)\n",
    "varianza = np.average( (x - media)**2,  weights = y)\n",
    "\n",
    "\n",
    "# Graficar\n",
    "fig, ax = plt.subplots()\n",
    "ax.bar(x,y)\n",
    "ax.set_ylabel('Probabilidad discreta')\n",
    "ax.axvline(x=media, c = 'r', linestyle = '--', label='Valor Esperaso')\n",
    "ax.axvline(x = media + 3*np.sqrt(varianza), c = 'k', linestyle= '--', label='Desviazicion Estandar')\n",
    "ax.axvline(x = media - 3*np.sqrt(varianza), c = 'k', linestyle= '--')\n",
    "ax.legend()"
   ]
  },
  {
   "cell_type": "code",
   "execution_count": 73,
   "metadata": {},
   "outputs": [
    {
     "data": {
      "text/plain": [
       "Text(0.5, 1.0, 'Probabilidad Acomulada')"
      ]
     },
     "execution_count": 73,
     "metadata": {},
     "output_type": "execute_result"
    },
    {
     "data": {
      "image/png": "[encoded data removed]",
      "text/plain": [
       "<Figure size 432x288 with 1 Axes>"
      ]
     },
     "metadata": {
      "needs_background": "light"
     },
     "output_type": "display_data"
    }
   ],
   "source": [
    "N = 10000\n",
    "x = list(range(0,N+1,1))\n",
    "y = [binom.cdf(i, p=0.3, n = N) for i in x]\n",
    "\n",
    "fig, ax = plt.subplots()\n",
    "ax.plot(x, y)\n",
    "ax.set_title('Probabilidad Acomulada')\n"
   ]
  },
  {
   "cell_type": "code",
   "execution_count": 78,
   "metadata": {},
   "outputs": [
    {
     "name": "stdout",
     "output_type": "stream",
     "text": [
      "media = 0.0\n",
      "Varianza = 1.0\n",
      "skew = 0.0\n",
      "kurt = 0.0\n"
     ]
    }
   ],
   "source": [
    "from scipy.stats import norm\n",
    "mean, var, skew, kurt = norm.stats(moments = 'mvsk')\n",
    "print(f'media = {mean}')\n",
    "print(f'Varianza = {var}')\n",
    "print(f'skew = {skew}')\n",
    "print(f'kurt = {kurt}')"
   ]
  },
  {
   "cell_type": "markdown",
   "metadata": {},
   "source": [
    "# Distribuciones discretas de mayor aplicación"
   ]
  },
  {
   "cell_type": "markdown",
   "metadata": {},
   "source": [
    "## Bernoulli"
   ]
  },
  {
   "cell_type": "code",
   "execution_count": 80,
   "metadata": {},
   "outputs": [
    {
     "data": {
      "text/plain": [
       "100"
      ]
     },
     "execution_count": 80,
     "metadata": {},
     "output_type": "execute_result"
    }
   ],
   "source": [
    "from scipy.stats import bernoulli\n",
    "p = 0.3\n",
    "data = bernoulli.rvs(p, size=100)\n",
    "len(data)"
   ]
  },
  {
   "cell_type": "code",
   "execution_count": 81,
   "metadata": {},
   "outputs": [
    {
     "data": {
      "text/plain": [
       "(array(0.3), array(0.21), array(0.87287156), array(-1.23809524))"
      ]
     },
     "execution_count": 81,
     "metadata": {},
     "output_type": "execute_result"
    }
   ],
   "source": [
    "mean, var, skew, kurt =  bernoulli.stats(p, moments='mvsk')\n",
    "mean, var, skew, kurt"
   ]
  },
  {
   "cell_type": "code",
   "execution_count": 90,
   "metadata": {},
   "outputs": [
    {
     "data": {
      "text/plain": [
       "<matplotlib.legend.Legend at 0x21b3b9859c8>"
      ]
     },
     "execution_count": 90,
     "metadata": {},
     "output_type": "execute_result"
    },
    {
     "data": {
      "image/png": "[encoded data removed]",
      "text/plain": [
       "<Figure size 432x288 with 1 Axes>"
      ]
     },
     "metadata": {
      "needs_background": "light"
     },
     "output_type": "display_data"
    }
   ],
   "source": [
    "ax = sns.distplot(data, bins = 30, kde = False, color = 'blue')\n",
    "ax.set(xlabel = 'Distribución de Bernoulli', ylabel='Frecuencia')\n",
    "ax.axvline(x = mean, linestyle = '--', label = 'media')\n",
    "ax.legend()"
   ]
  },
  {
   "cell_type": "markdown",
   "metadata": {},
   "source": [
    "## Binomial"
   ]
  },
  {
   "cell_type": "code",
   "execution_count": 101,
   "metadata": {},
   "outputs": [
    {
     "data": {
      "text/plain": [
       "<matplotlib.legend.Legend at 0x21b3c0a4908>"
      ]
     },
     "execution_count": 101,
     "metadata": {},
     "output_type": "execute_result"
    },
    {
     "data": {
      "image/png": "[encoded data removed]",
      "text/plain": [
       "<Figure size 432x288 with 1 Axes>"
      ]
     },
     "metadata": {
      "needs_background": "light"
     },
     "output_type": "display_data"
    }
   ],
   "source": [
    "from scipy.stats import binom\n",
    "p = 0.3\n",
    "n = 10\n",
    "data = binom.rvs(p=p, n=n, size=100)\n",
    "\n",
    "mean, var, skew, kurt =  binom.stats(p=p, n=n, moments='mvsk')\n",
    "\n",
    "ax = sns.distplot(data, bins = 30, kde = False, color = 'blue')\n",
    "ax.set(xlabel = 'Distribución de Binomial', ylabel='Frecuencia')\n",
    "ax.axvline(x = mean, linestyle = '--', label = 'media')\n",
    "ax.axvline(x = mean +  3 * np.sqrt(var),color='red', linestyle = '--', label = 'Desviación Estandar')\n",
    "ax.axvline(x = mean - 3 * np.sqrt(var), linestyle = '--', color = 'red')\n",
    "ax.legend()"
   ]
  },
  {
   "cell_type": "markdown",
   "metadata": {},
   "source": [
    "## Binomial negativa"
   ]
  },
  {
   "cell_type": "code",
   "execution_count": 116,
   "metadata": {},
   "outputs": [
    {
     "data": {
      "text/plain": [
       "<matplotlib.legend.Legend at 0x21b3f3ca788>"
      ]
     },
     "execution_count": 116,
     "metadata": {},
     "output_type": "execute_result"
    },
    {
     "data": {
      "image/png": "[encoded data removed]",
      "text/plain": [
       "<Figure size 432x288 with 1 Axes>"
      ]
     },
     "metadata": {
      "needs_background": "light"
     },
     "output_type": "display_data"
    }
   ],
   "source": [
    "from scipy.stats import nbinom\n",
    "p = 0.3\n",
    "n = 10000\n",
    "data = nbinom.rvs(p=p, n=n, size=1000)\n",
    "\n",
    "mean, var, skew, kurt =  nbinom.stats(p=p, n=n, moments='mvsk')\n",
    "\n",
    "ax = sns.distplot(data, bins = 30, kde = False, color = 'blue')\n",
    "ax.set(xlabel = 'Distribución de Negativo Binomial', ylabel='Frecuencia')\n",
    "ax.axvline(x = mean, linestyle = '--', label = 'media')\n",
    "ax.legend()"
   ]
  },
  {
   "cell_type": "markdown",
   "metadata": {},
   "source": [
    "## Poisson"
   ]
  },
  {
   "cell_type": "code",
   "execution_count": 117,
   "metadata": {},
   "outputs": [
    {
     "data": {
      "text/plain": [
       "<matplotlib.legend.Legend at 0x21b3e8cfe48>"
      ]
     },
     "execution_count": 117,
     "metadata": {},
     "output_type": "execute_result"
    },
    {
     "data": {
      "image/png": "[encoded data removed]",
      "text/plain": [
       "<Figure size 432x288 with 1 Axes>"
      ]
     },
     "metadata": {
      "needs_background": "light"
     },
     "output_type": "display_data"
    }
   ],
   "source": [
    "from scipy.stats import poisson\n",
    "lambda_p = 3\n",
    "\n",
    "data = poisson.rvs(mu = lambda_p , size=100)\n",
    "\n",
    "mean, var, skew, kurt =  poisson.stats(mu = lambda_p, moments='mvsk')\n",
    "\n",
    "ax = sns.distplot(data, bins = 30, kde = False, color = 'blue')\n",
    "ax.set(xlabel = 'Distribución de Poisoon', ylabel='Frecuencia')\n",
    "ax.axvline(x = mean, linestyle = '--', label = 'media')\n",
    "ax.legend()"
   ]
  },
  {
   "cell_type": "markdown",
   "metadata": {},
   "source": [
    "# Funciones continuas"
   ]
  },
  {
   "cell_type": "markdown",
   "metadata": {},
   "source": [
    "## Exponencial"
   ]
  },
  {
   "cell_type": "code",
   "execution_count": 119,
   "metadata": {},
   "outputs": [
    {
     "data": {
      "text/plain": [
       "<matplotlib.legend.Legend at 0x21b3f91fdc8>"
      ]
     },
     "execution_count": 119,
     "metadata": {},
     "output_type": "execute_result"
    },
    {
     "data": {
      "image/png": "[encoded data removed]",
      "text/plain": [
       "<Figure size 432x288 with 1 Axes>"
      ]
     },
     "metadata": {
      "needs_background": "light"
     },
     "output_type": "display_data"
    }
   ],
   "source": [
    "from scipy.stats import expon\n",
    "\n",
    "data = expon.rvs( size=100000000)\n",
    "\n",
    "mean, var, skew, kurt =  expon.stats(moments='mvsk')\n",
    "\n",
    "\n",
    "ax = sns.distplot(data, bins = 500, kde = False, color = 'blue')\n",
    "ax.set(xlabel = 'Distribución de Exponencial', ylabel='Frecuencia')\n",
    "ax.axvline(x = mean, linestyle = '--', label = 'media')\n",
    "ax.legend()"
   ]
  },
  {
   "cell_type": "markdown",
   "metadata": {},
   "source": [
    "## Normal"
   ]
  },
  {
   "cell_type": "code",
   "execution_count": 121,
   "metadata": {},
   "outputs": [
    {
     "data": {
      "text/plain": [
       "<matplotlib.legend.Legend at 0x22de1f8cfc8>"
      ]
     },
     "execution_count": 121,
     "metadata": {},
     "output_type": "execute_result"
    },
    {
     "data": {
      "image/png": "[encoded data removed]",
      "text/plain": [
       "<Figure size 432x288 with 1 Axes>"
      ]
     },
     "metadata": {
      "needs_background": "light"
     },
     "output_type": "display_data"
    }
   ],
   "source": [
    "from scipy.stats import norm\n",
    "mean = 1\n",
    "var = 0\n",
    "\n",
    "data = norm.rvs( size=100000000)\n",
    "\n",
    "mean, var, skew, kurt =  norm.stats(moments='mvsk')\n",
    "\n",
    "\n",
    "ax = sns.distplot(data, bins = 500, kde = False, color = 'blue')\n",
    "ax.set(xlabel = 'Distribución de Normal estandar', ylabel='Frecuencia')\n",
    "ax.axvline(x = mean, linestyle = '--', label = 'media')\n",
    "ax.axvline(x = mean +  3 * np.sqrt(var),color='red', linestyle = '--', label = 'Desviación Estandar')\n",
    "ax.axvline(x = mean - 3 * np.sqrt(var), linestyle = '--', color = 'red')\n",
    "ax.legend()"
   ]
  },
  {
   "cell_type": "markdown",
   "metadata": {},
   "source": [
    "## Uniforme"
   ]
  },
  {
   "cell_type": "code",
   "execution_count": 124,
   "metadata": {},
   "outputs": [
    {
     "name": "stdout",
     "output_type": "stream",
     "text": [
      "0.5 0.08333333333333333 0.0 -1.2\n"
     ]
    },
    {
     "data": {
      "text/plain": [
       "<matplotlib.legend.Legend at 0x22de2b86908>"
      ]
     },
     "execution_count": 124,
     "metadata": {},
     "output_type": "execute_result"
    },
    {
     "data": {
      "image/png": "[encoded data removed]",
      "text/plain": [
       "<Figure size 432x288 with 1 Axes>"
      ]
     },
     "metadata": {
      "needs_background": "light"
     },
     "output_type": "display_data"
    }
   ],
   "source": [
    "from scipy.stats import uniform\n",
    "\n",
    "\n",
    "data = uniform.rvs( size=100000000)\n",
    "\n",
    "mean, var, skew, kurt =  uniform.stats(moments='mvsk')\n",
    "print(mean, var, skew, kurt )\n",
    "\n",
    "ax = sns.distplot(data, bins = 500, kde = False, color = 'blue')\n",
    "ax.set(xlabel = 'Distribución de Binomial', ylabel='Frecuencia')\n",
    "ax.axvline(x = mean, linestyle = '--', label = 'media')\n",
    "# ax.axvline(x = mean +  3 * np.sqrt(var),color='red', linestyle = '--', label = 'Desviación Estandar')\n",
    "# ax.axvline(x = mean - 3 * np.sqrt(var), linestyle = '--', color = 'red')\n",
    "ax.legend()"
   ]
  },
  {
   "cell_type": "markdown",
   "metadata": {},
   "source": [
    "# Correlación, covarianza"
   ]
  },
  {
   "cell_type": "code",
   "execution_count": 126,
   "metadata": {},
   "outputs": [],
   "source": [
    "df = pd.read_csv('iris-data.csv', index_col = 0)\n"
   ]
  },
  {
   "cell_type": "code",
   "execution_count": 128,
   "metadata": {},
   "outputs": [
    {
     "data": {
      "text/plain": [
       "Index(['lar.sepalo', 'anc.sepalo', 'lar.petalo', 'anc.petalo', 'tipo_flor'], dtype='object')"
      ]
     },
     "execution_count": 128,
     "metadata": {},
     "output_type": "execute_result"
    }
   ],
   "source": [
    "df.columns"
   ]
  },
  {
   "cell_type": "code",
   "execution_count": 130,
   "metadata": {},
   "outputs": [
    {
     "data": {
      "text/plain": [
       "2.0    50\n",
       "1.0    50\n",
       "0.0    50\n",
       "Name: tipo_flor, dtype: int64"
      ]
     },
     "execution_count": 130,
     "metadata": {},
     "output_type": "execute_result"
    }
   ],
   "source": [
    "df.tipo_flor.value_counts()"
   ]
  },
  {
   "cell_type": "code",
   "execution_count": 131,
   "metadata": {},
   "outputs": [
    {
     "data": {
      "text/plain": [
       "0      1.4\n",
       "1      1.4\n",
       "2      1.3\n",
       "3      1.5\n",
       "4      1.4\n",
       "      ... \n",
       "145    5.2\n",
       "146    5.0\n",
       "147    5.2\n",
       "148    5.4\n",
       "149    5.1\n",
       "Name: lar.petalo, Length: 150, dtype: float64"
      ]
     },
     "execution_count": 131,
     "metadata": {},
     "output_type": "execute_result"
    }
   ],
   "source": [
    "y = df['lar.petalo']\n",
    "y"
   ]
  },
  {
   "cell_type": "code",
   "execution_count": 136,
   "metadata": {},
   "outputs": [
    {
     "data": {
      "text/plain": [
       "<matplotlib.legend.Legend at 0x22de354f208>"
      ]
     },
     "execution_count": 136,
     "metadata": {},
     "output_type": "execute_result"
    },
    {
     "data": {
      "image/png": "[encoded data removed]",
      "text/plain": [
       "<Figure size 432x288 with 1 Axes>"
      ]
     },
     "metadata": {
      "needs_background": "light"
     },
     "output_type": "display_data"
    }
   ],
   "source": [
    "fig, ax = plt.subplots()\n",
    "ax.set_title('Variable original')\n",
    "ax.hist(y, bins=30)\n",
    "ax.axvline(x=np.mean(y), c='k', label='Media', linestyle = '--')\n",
    "ax.axvline(x=np.mean(y) + np.std(y), c='r', label='Desviacion est', linestyle = '--')\n",
    "ax.axvline(x=np.mean(y) -np.std(y), c='r', linestyle = '--')\n",
    "ax.legend()"
   ]
  },
  {
   "cell_type": "code",
   "execution_count": 143,
   "metadata": {},
   "outputs": [
    {
     "data": {
      "text/plain": [
       "<matplotlib.legend.Legend at 0x22de3abb7c8>"
      ]
     },
     "execution_count": 143,
     "metadata": {},
     "output_type": "execute_result"
    },
    {
     "data": {
      "image/png": "[encoded data removed]",
      "text/plain": [
       "<Figure size 432x288 with 1 Axes>"
      ]
     },
     "metadata": {
      "needs_background": "light"
     },
     "output_type": "display_data"
    }
   ],
   "source": [
    "# Estandarizar\n",
    "fig, ax = plt.subplots()\n",
    "ax.set_title('Variable original')\n",
    "\n",
    "y_norm = (y - np.mean(y)) / np.std(y)\n",
    "\n",
    "\n",
    "ax.hist( y_nomr , bins=30)\n",
    "ax.set_title('Variable Estandarizada')\n",
    "ax.axvline(x= np.mean(y_norm), c='k', label='Media', linestyle = '--')\n",
    "ax.axvline(x= np.mean(y_norm) + np.std(y_norm), c='r', label='Desviacion est', linestyle = '--')\n",
    "ax.axvline(x= np.mean(y_norm) - np.std(y_norm), c='r', linestyle = '--')\n",
    "ax.legend()"
   ]
  },
  {
   "cell_type": "code",
   "execution_count": 146,
   "metadata": {},
   "outputs": [
    {
     "data": {
      "image/png": "[encoded data removed]",
      "text/plain": [
       "<Figure size 432x288 with 1 Axes>"
      ]
     },
     "metadata": {
      "needs_background": "light"
     },
     "output_type": "display_data"
    }
   ],
   "source": [
    "fig, ax = plt.subplots()\n",
    "ax.scatter(df['lar.petalo'], df['lar.sepalo'], alpha = 0.7)\n",
    "ax.set_xlabel('lar.petalo')\n",
    "ax.set_ylabel('lar.setalo')\n",
    "ax.autoscale()"
   ]
  },
  {
   "cell_type": "code",
   "execution_count": 147,
   "metadata": {},
   "outputs": [
    {
     "data": {
      "text/plain": [
       "array([[3.11627785, 1.27431544],\n",
       "       [1.27431544, 0.68569351]])"
      ]
     },
     "execution_count": 147,
     "metadata": {},
     "output_type": "execute_result"
    }
   ],
   "source": [
    "np.cov(df['lar.petalo'], df['lar.sepalo'])"
   ]
  },
  {
   "cell_type": "code",
   "execution_count": 153,
   "metadata": {},
   "outputs": [],
   "source": [
    "corr = df.corr(method = 'kendall')"
   ]
  },
  {
   "cell_type": "code",
   "execution_count": 157,
   "metadata": {},
   "outputs": [
    {
     "data": {
      "text/plain": [
       "<matplotlib.axes._subplots.AxesSubplot at 0x22de5500308>"
      ]
     },
     "execution_count": 157,
     "metadata": {},
     "output_type": "execute_result"
    },
    {
     "data": {
      "image/png": "[encoded data removed]",
      "text/plain": [
       "<Figure size 432x288 with 2 Axes>"
      ]
     },
     "metadata": {
      "needs_background": "light"
     },
     "output_type": "display_data"
    }
   ],
   "source": [
    "sns.heatmap(corr,\n",
    "            xticklabels = corr.columns,\n",
    "           vmin = -1, vmax = 1, cmap = 'Spectral')"
   ]
  }
 ],
 "metadata": {
  "kernelspec": {
   "display_name": "Python 3",
   "language": "python",
   "name": "python3"
  },
  "language_info": {
   "codemirror_mode": {
    "name": "ipython",
    "version": 3
   },
   "file_extension": ".py",
   "mimetype": "text/x-python",
   "name": "python",
   "nbconvert_exporter": "python",
   "pygments_lexer": "ipython3",
   "version": "3.7.6"
  }
 },
 "nbformat": 4,
 "nbformat_minor": 4
}
